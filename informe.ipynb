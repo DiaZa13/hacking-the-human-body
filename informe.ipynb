{
 "cells": [
  {
   "cell_type": "markdown",
   "metadata": {
    "collapsed": false,
    "pycharm": {
     "name": "#%% md\n"
    }
   },
   "source": [
    "# Introducción\n",
    "- Se debe introducir el contenido del informe\n",
    "- Se debe plantear el problema a resolver\n",
    "\n",
    "Las unidades de tejido funcional tienen gran importancia al conectar el ser humano como sistema y las células como unidad básica de funcionamiento. A su vez, son relevantes a nivel patobiológico, ya que, según Godwin en *Robust and generalizable segmentation of human functional tissue units* las unidades de tejido funcional permiten modelar y comprender la progresión de enfermedades en el ser humano. Al tener un mayor conocimiento sobre las áreas en las cuales se encuentran las unidades de tejido funcional lo que se busca es mejorar y prolongar la vida humana, a través de la información sobre la función de las células que tienen un papel importante en la salud. Sin embargo, a pesar de su relevancia en el área médica aún existe una brecha de conocimiento de la locación de las unidades funcionales en diferentes órganos, esto principalmente debido a que es una actividad costosa, ya que requiere mucho tiempo. En promedio un patólogo entrenado necesita 10 horas para encontrar alrededor de 200 unidades funcionales en un órgano, esto no es eficiente si se toma en consideración que solamente en un riñón están presentes alrededor de 1 millón de unidades funcionales."
   ]
  },
  {
   "cell_type": "markdown",
   "metadata": {
    "collapsed": false,
    "pycharm": {
     "name": "#%% md\n"
    }
   },
   "source": [
    "# Objetivos\n",
    "**Objetivos Generales**\n",
    "- Construir un modelo generalizable que identifique unidades de tejido funcional para facilitar investigaciones sobre la localización de estas células en un órgano.\n",
    "\n",
    "**Objetivos Específicos**\n",
    "- Generar un modelo que utilize visión artificial para detectar si un tejido funcional proviene de la próstata, bazo, pulmones, riñones o intestino grueso con la mayor precisión posible.\n",
    "- Generar un modelo para detectar el órgano del que proviene un tejido funcional que tome la menor cantidad de tiempo para analizar un tejido específico."
   ]
  },
  {
   "cell_type": "markdown",
   "metadata": {
    "collapsed": false,
    "pycharm": {
     "name": "#%% md\n"
    }
   },
   "source": [
    "# Marco teórico\n",
    "Debe de contener toda la teoría estudiada para elaborar el proyecto"
   ]
  },
  {
   "cell_type": "markdown",
   "metadata": {
    "collapsed": false,
    "pycharm": {
     "name": "#%% md\n"
    }
   },
   "source": [
    "## Información sobre procesamiento de los datos"
   ]
  },
  {
   "cell_type": "markdown",
   "metadata": {
    "collapsed": false,
    "pycharm": {
     "name": "#%% md\n"
    }
   },
   "source": [
    "## Información teórica sobre análisis de los datos desde el punto de vista de los expertos"
   ]
  },
  {
   "cell_type": "markdown",
   "metadata": {
    "collapsed": false,
    "pycharm": {
     "name": "#%% md\n"
    }
   },
   "source": [
    "## Algoritmo de aprendizaje de máquinas\n",
    "Algoritmos, ya sean profundos o no que serían de utilidad para resolver"
   ]
  },
  {
   "cell_type": "markdown",
   "metadata": {},
   "source": [
    "## Image segmentation\n",
    "\n",
    "Este algoritmo consiste en la partición de una imagen en grupos más pequeños de la misma llamadas \"image segments\". Esto con el fin de poder reducir la complejidad de la imagen y dar la posibilidad de realizar análisis más profundo sobre cada segmento. \n",
    "\n",
    "Un uso común que se le da a este algoritmo es el de poder detectar patrones en los segmentos. Esto ocasiona que se puedan detectar objetos en las imagenes sin la necesidad de analizar la imagen completa. Gracias a esto se logra un mejor rendimiento y precisión a la hora de analizar imagenes. \n"
   ]
  },
  {
   "cell_type": "markdown",
   "metadata": {},
   "source": [
    "### ¿Cómo funciona el algoritmo de Image Segmentation?\n",
    "\n",
    "Este algoritmo toma como entrada una imagen y produce como salida una mascara o matriz con varios elementos clasificados, ya sea en clases o en instancias de donde pertenece cada pixel. \n",
    "\n",
    "Para utilizar este algoritmo con redes neuronales se debe de tener los siguiente componentes:\n",
    "\n",
    "- Encoder \n",
    "- Decoder\n",
    "- Skip connections"
   ]
  },
  {
   "cell_type": "markdown",
   "metadata": {},
   "source": [
    "### Ejemplo\n",
    "<img src=\"https://mlv4xkdrf2yq.i.optimole.com/cb:0l1_~a759/w:1024/h:771/q:mauto/https://datagen.tech/app/uploads/2022/05/image6-2.png\" width=\"300\" height=\"200\">"
   ]
  },
  {
   "cell_type": "markdown",
   "metadata": {
    "collapsed": false,
    "pycharm": {
     "name": "#%% md\n"
    }
   },
   "source": [
    "## Metodología"
   ]
  },
  {
   "cell_type": "markdown",
   "metadata": {
    "collapsed": false,
    "pycharm": {
     "name": "#%% md\n"
    }
   },
   "source": [
    "### Pasos para resolver el problema\n",
    "Explicación de cómo seleccionó el conjunto de entrenamiento y prueba"
   ]
  },
  {
   "cell_type": "markdown",
   "metadata": {
    "collapsed": false,
    "pycharm": {
     "name": "#%% md\n"
    }
   },
   "source": [
    "### Selección de los algoritmos\n",
    "Explicación de la selección de los algoritmos y las razones por las se escogieron"
   ]
  },
  {
   "cell_type": "markdown",
   "metadata": {
    "collapsed": false,
    "pycharm": {
     "name": "#%% md\n"
    }
   },
   "source": [
    "### Explicación de selección de las herramientas utilizadas\n",
    "- Recursos de cómputo\n",
    "- Lenguajes de programación, bibliotecas y/o paquetes utilizados"
   ]
  },
  {
   "cell_type": "markdown",
   "metadata": {
    "collapsed": false,
    "pycharm": {
     "name": "#%% md\n"
    }
   },
   "source": [
    "# Resultados y Análisis de Resultados"
   ]
  },
  {
   "cell_type": "markdown",
   "metadata": {
    "collapsed": false,
    "pycharm": {
     "name": "#%% md\n"
    }
   },
   "source": [
    "## Conjunto de datos\n",
    "Descripción de las características del conjunto de datos\n",
    "\n",
    "El conjunto de datos para la elaboración de análisis de los tejidos funcionales de los órganos fue obtenido mediante la página de Kaggle de la competencia *Hacking the Human Body*. Los datos proporcionados constan de 351 observaciones (con sus respectivas imágenes para el análisis, de las cuales se puede observar una previsualización en la imagen anterior) y 10 variables, en las cuales se describe tanto información de las imágenes como el sexo y la edad del donador. Los organos provistos para el análisis son: riñón, pulmón, bazo, intestino grueso y próstata."
   ]
  },
  {
   "cell_type": "markdown",
   "metadata": {
    "collapsed": false,
    "pycharm": {
     "name": "#%% md\n"
    }
   },
   "source": [
    "## Preprocesamiento\n",
    "Descripción de las tareas de limpieza y preprocesamiento a las que tuvo que someter a los datos para lograr los resultados obtenidos"
   ]
  },
  {
   "cell_type": "markdown",
   "metadata": {
    "collapsed": false,
    "pycharm": {
     "name": "#%% md\n"
    }
   },
   "source": [
    "## Ajuste de algoritmos\n",
    "Explica el ajuste de los parámetros que hubo que hacerle a cada uno de los algoritmos para mejorar el rendimiento y la efectividad\n"
   ]
  },
  {
   "cell_type": "markdown",
   "metadata": {
    "collapsed": false,
    "pycharm": {
     "name": "#%% md\n"
    }
   },
   "source": [
    "## Comparación de algoritmos\n",
    "Comparación de los algoritmos de acuerdo con la efectividad, tiempos de procesamiento, errores, etc. Utiliza para esto, gráficos explicativos, estáticos con colores adecuados"
   ]
  },
  {
   "cell_type": "markdown",
   "metadata": {
    "collapsed": false,
    "pycharm": {
     "name": "#%% md\n"
    }
   },
   "source": [
    "## Descripción de la aplicación"
   ]
  },
  {
   "cell_type": "markdown",
   "metadata": {},
   "source": [
    "# Referencias\n",
    "\n",
    "- Datagen (sf). Image Segmentation: The Basics and 5 Key Techniques. https://datagen.tech/guides/image-annotation/image-segmentation/ "
   ]
  }
 ],
 "metadata": {
  "kernelspec": {
   "display_name": "Python 3.10.6 64-bit",
   "language": "python",
   "name": "python3"
  },
  "language_info": {
   "codemirror_mode": {
    "name": "ipython",
    "version": 2
   },
   "file_extension": ".py",
   "mimetype": "text/x-python",
   "name": "python",
   "nbconvert_exporter": "python",
   "pygments_lexer": "ipython2",
   "version": "3.10.6"
  },
  "vscode": {
   "interpreter": {
    "hash": "85aba615decdb3a01ede5f950161a0711e40dfddec8a67547c00f5b8562848d2"
   }
  }
 },
 "nbformat": 4,
 "nbformat_minor": 0
}
