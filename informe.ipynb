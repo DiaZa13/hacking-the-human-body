{
 "cells": [
  {
   "cell_type": "markdown",
   "metadata": {
    "collapsed": false,
    "pycharm": {
     "name": "#%% md\n"
    }
   },
   "source": [
    "# Introducción\n",
    "- Se debe introducir el contenido del informe\n",
    "- Se debe plantear el problema a resolver\n",
    "\n",
    "Las unidades de tejido funcional tienen gran importancia al conectar el ser humano como sistema y las células como unidad básica de funcionamiento. A su vez, son relevantes a nivel patobiológico, ya que, según Godwin en *Robust and generalizable segmentation of human functional tissue units* las unidades de tejido funcional permiten modelar y comprender la progresión de enfermedades en el ser humano. Al tener un mayor conocimiento sobre las áreas en las cuales se encuentran las unidades de tejido funcional lo que se busca es mejorar y prolongar la vida humana, a través de la información sobre la función de las células que tienen un papel importante en la salud. Sin embargo, a pesar de su relevancia en el área médica aún existe una brecha de conocimiento de la locación de las unidades funcionales en diferentes órganos, esto principalmente debido a que es una actividad costosa, ya que requiere mucho tiempo. En promedio un patólogo entrenado necesita 10 horas para encontrar alrededor de 200 unidades funcionales en un órgano, esto no es eficiente si se toma en consideración que solamente en un riñón están presentes alrededor de 1 millón de unidades funcionales."
   ]
  },
  {
   "cell_type": "markdown",
   "metadata": {
    "collapsed": false,
    "pycharm": {
     "name": "#%% md\n"
    }
   },
   "source": [
    "# Objetivos\n",
    "**Objetivos Generales**\n",
    "- Construir un modelo generalizable que identifique unidades de tejido funcional para facilitar investigaciones sobre la localización de estas células en un órgano.\n",
    "\n",
    "**Objetivos Específicos**\n",
    "- Generar un modelo que utilize visión artificial para detectar si un tejido funcional proviene de la próstata, bazo, pulmones, riñones o intestino grueso con la mayor precisión posible.\n",
    "- Generar un modelo para detectar el órgano del que proviene un tejido funcional que tome la menor cantidad de tiempo para analizar un tejido específico."
   ]
  },
  {
   "cell_type": "markdown",
   "metadata": {
    "collapsed": false,
    "pycharm": {
     "name": "#%% md\n"
    }
   },
   "source": [
    "# Marco teórico\n",
    "Debe de contener toda la teoría estudiada para elaborar el proyecto"
   ]
  },
  {
   "cell_type": "markdown",
   "metadata": {
    "collapsed": false,
    "pycharm": {
     "name": "#%% md\n"
    }
   },
   "source": [
    "## Información sobre procesamiento de los datos"
   ]
  },
  {
   "cell_type": "markdown",
   "metadata": {
    "collapsed": false,
    "pycharm": {
     "name": "#%% md\n"
    }
   },
   "source": [
    "## Información teórica sobre análisis de los datos desde el punto de vista de los expertos"
   ]
  },
  {
   "cell_type": "markdown",
   "metadata": {
    "collapsed": false,
    "pycharm": {
     "name": "#%% md\n"
    }
   },
   "source": [
    "## Algoritmo de aprendizaje de máquinas\n",
    "Algoritmos, ya sean profundos o no que serían de utilidad para resolver\n",
    "\n",
    "Para la creación de modelos se utilizará la técnica de Image segmentation"
   ]
  },
  {
   "cell_type": "markdown",
   "metadata": {},
   "source": [
    "## Image segmentation\n",
    "\n",
    "Esta técnica consiste en la partición de una imagen en grupos más pequeños de la misma llamadas \"image segments\". Esto con el fin de poder reducir la complejidad de la imagen y dar la posibilidad de realizar análisis más profundo sobre cada segmento. \n",
    "\n",
    "Un uso común que se le da a esta técnica es el de poder detectar patrones en los segmentos. Esto ocasiona que se puedan detectar objetos en las imagenes sin la necesidad de analizar la imagen completa. Gracias a esto se logra un mejor rendimiento y precisión a la hora de analizar imagenes. \n",
    "\n",
    "### ¿Cómo funciona la técnica Image Segmentation?\n",
    "\n",
    "Esta técnica toma como entrada una imagen y produce como salida una mascara o matriz con varios elementos clasificados, ya sea en clases o en instancias de donde pertenece cada pixel.\n",
    "\n",
    "### Ejemplo\n",
    "<img src=\"https://mlv4xkdrf2yq.i.optimole.com/cb:0l1_~a759/w:1024/h:771/q:mauto/https://datagen.tech/app/uploads/2022/05/image6-2.png\" width=\"300\" height=\"200\">\n",
    "\n",
    "(Datagen, sf)"
   ]
  },
  {
   "cell_type": "markdown",
   "metadata": {},
   "source": [
    "### Tipos de segmentación de imagen que hay\n",
    "\n",
    "Existen tres tipos de segmentación de imagen:\n",
    "\n",
    "#### Semántica\n",
    "\n",
    "Este tipo asocia cada pixel de la imágen a una clase en específico (i.e carros, plantas, personas, etc). Toma múltiples objetos de la misma clase como una sola identidad. \n",
    "\n",
    "#### Insancia\n",
    "\n",
    "Este tipo, a diferencia de la semántica que toma varios objetos como uno solo, este toma múltiples objetos como individuos distintos. \n",
    "\n",
    "#### Panoptic \n",
    "\n",
    "Este tipo es la combinación de los dos anteriores, semántica e instancia. Cada objeto es representado por una clase y cada objeto es tomado como un individuo distinto.\n",
    "\n",
    "(Shiledarbaxi, N. sf)\n",
    "\n",
    "### Ejemplo\n",
    "\n",
    "<img src=\"https://assets-global.website-files.com/5d7b77b063a9066d83e1209c/6124a3554942a64e5edd7f20_Classification%20Detection.png\" width=\"300\" height=\"200\">\n",
    "\n",
    "(Bandyopadhyay. H, 10/2022)"
   ]
  },
  {
   "cell_type": "markdown",
   "metadata": {},
   "source": [
    "A partir de la técnica Image Segmentation se pueden utilizar distintos tipos de algoritmos para la predicción de datos. "
   ]
  },
  {
   "cell_type": "markdown",
   "metadata": {},
   "source": [
    "## K-Means\n",
    "\n",
    "K-Means es un algoritmo no supervisado. Su finalidad es la de dividir la información en distintas clases o clusters basados en la información que posee cada objeto. \n",
    "\n",
    "### ¿Cómo funciona?\n",
    "\n",
    "- Se escoge el valor de k, el cual es el número de clusters que se usaran.\n",
    "- Asignar los objetos de forma aleatoria a cualquiera de los k clusters\n",
    "- Calcular el centro de cada cluster\n",
    "- Calcular la distancia de cada objeto hacia el centro de cada cluster\n",
    "- Asignar los objetos al cluster con el que posean la distancia más corta hacia su centro\n",
    "- Calcular nuevamente el centro de cada cluster\n",
    "- Repetir los tres pasos anteriores hasta que los objetos no cambien de cluster.\n",
    "\n",
    "(GeeksForGeeks, 07/2021)"
   ]
  },
  {
   "cell_type": "markdown",
   "metadata": {},
   "source": [
    "## Otsu´s method\n",
    "\n",
    "Este algoritmo tiene la finalidad de poder realizar la umbralización de una imagén. La umbralización consiste en la separación de los objetos de interes con el fondo, esto se realiza a partir de un valor de \"umbral\". Este valor de umbral se puede colocar como un número al azar, pero existen diversos métodos para poder encontrar un valor óptimo de umbral. Uno de estos el método de Otsu. \n",
    "\n",
    "### ¿Cómo funciona?\n",
    "\n",
    "- Procesar la imagen de entrada\n",
    "- Obtener la distribución de los pixeles de la imagen (puede ser por un histograma)\n",
    "- Calcular el valor de umbral T\n",
    "    - Este valor se calcula por medio de la dispersión que hay de cada segmento, tomando el cociente entre las varianzas de cada segmento y se busca un valor de umbral en el que el cociente de este sea lo máximo posible (en la referencia se puede ver una explicación más detallada de como calcular este valor).\n",
    "- Remplazar los pixeles a pixeles de color blanco en donde la saturación es mayor a T y de color negro aquellos pixeles que posean una saturación menor a T. \n",
    "\n",
    "### Ejemplo\n",
    "\n",
    "<img src=\"https://muthu.co/wp-content/uploads/2020/03/download-1.png\" width=\"300\" height=\"200\">\n",
    "\n",
    "(Murzova. A, 08/2020)\n"
   ]
  },
  {
   "cell_type": "markdown",
   "metadata": {},
   "source": [
    "## Region-Based Segmentation\n",
    "\n",
    "Este algoritmo se enfoca en la busqueda de características similares entre los pixeles y sus adyacentes, con el fin de agruparlos en una clase en común. \n",
    "\n",
    "### ¿Cómo funciona?\n",
    "\n",
    "Este algoritmo inicia definiendo a unos pixeles como \"seed pixels\". Luego de definir estos pixeles, calcula los límites que poseen estos pixeles y clasifica los pixeles que tiene alrededor como similares o como distintos. Luego se escogen los vecinos próximos como los siguientes \"seed pixels\" y se repite todo el proceso hasta que toda la imagen esté segmentada. \n",
    "\n",
    "\n",
    "\n",
    "(Bandyopadhyay. H, 10/2022)"
   ]
  },
  {
   "cell_type": "markdown",
   "metadata": {},
   "source": [
    "## Canny Edge detection\n",
    "\n",
    "Este algoritmo busca poder detectar los bordes de una imágen para la separación de los objetos.\n",
    "\n",
    "### ¿Cómo funciona?\n",
    "\n",
    "- Reducir el ruido que pueda poseer la imágen\n",
    "- Calcular la gradiente de la imagen. Esto se hace por medio de analizar los saltos de intensidad que hay entre cada pixel\n",
    "- Realizar un adelgalzamiento de los bordes.\n",
    "- Colocar un doble umbral, con la finalidad de poder determinar tres tipos de pixeles\n",
    "    - Pixeles fuertes: Son pixeles que poseen una intensidad alta, los cuales contribuyen al borde final\n",
    "    - Pixeles débiles: Son pixeles que no poseen una intensidad tan alta como considerarse pixeles fuertes, pero siguen siendo pixeles que aportan información a la imagen. \n",
    "    - Pixeles no relevantes: Son todos aquellos pixeles con una intensidad tan baja que no son considerados relevantes en la imagen.\n",
    "- Busqueda de bordes. Esto se realizar por medio de analizar los pixeles débiles con la finalidad de determinar si alguno de estos se puede considerar como un pixel fuerte. \n",
    "\n",
    "(En la referencia se puede ver una explicación más detallada de cada paso)\n",
    "\n",
    "### Ejemplo\n",
    "\n",
    "<img src=\"https://miro.medium.com/max/640/1*ZCyKWsmDoj6V-dNwKlKxyA.png\" width=\"300\" height=\"200\">\n",
    "\n",
    "(Sahir. S, 01/2019)\n"
   ]
  },
  {
   "cell_type": "markdown",
   "metadata": {},
   "source": [
    "## Redes convolucionales\n",
    "\n",
    "Las redes convolucionales son un tipo de redes neuronales en donde las neuronas representan a las neuronas de la corteza visual primaria de un cerebro biológico. Estas redes son utilizadas para trabajar con imágenes. \n",
    "\n",
    "### ¿Cómo funciona?\n",
    "\n",
    "La red convolucional extrae automáticamente caracterísitcas de los datos de entrenamiento. Dichas caracterísitcas servirán para poder clasificar cada objeto. Estas características las logra identificar a partir de patrones, bordes, lineas o formas que se cruzan. De igual forma como trabaja la corteza visual de los mamíferos. \n",
    "\n",
    "(KeepCodig, 01/2022)\n",
    "\n",
    "### Ejemplo\n",
    "\n",
    "<img src=\"https://www.iartificial.net/wp-content/uploads/2021/04/20210418_001045-1024x284.webp\" width=\"500\" height=\"200\">\n",
    "\n",
    "(Iglesias. D, 05/2021)"
   ]
  },
  {
   "cell_type": "markdown",
   "metadata": {
    "collapsed": false,
    "pycharm": {
     "name": "#%% md\n"
    }
   },
   "source": [
    "## Metodología"
   ]
  },
  {
   "cell_type": "markdown",
   "metadata": {
    "collapsed": false,
    "pycharm": {
     "name": "#%% md\n"
    }
   },
   "source": [
    "### Pasos para resolver el problema\n",
    "Explicación de cómo seleccionó el conjunto de entrenamiento y prueba"
   ]
  },
  {
   "cell_type": "markdown",
   "metadata": {
    "collapsed": false,
    "pycharm": {
     "name": "#%% md\n"
    }
   },
   "source": [
    "### Selección de los algoritmos\n",
    "Explicación de la selección de los algoritmos y las razones por las se escogieron"
   ]
  },
  {
   "cell_type": "markdown",
   "metadata": {
    "collapsed": false,
    "pycharm": {
     "name": "#%% md\n"
    }
   },
   "source": [
    "### Explicación de selección de las herramientas utilizadas\n",
    "- Recursos de cómputo\n",
    "- Lenguajes de programación, bibliotecas y/o paquetes utilizados"
   ]
  },
  {
   "cell_type": "markdown",
   "metadata": {
    "collapsed": false,
    "pycharm": {
     "name": "#%% md\n"
    }
   },
   "source": [
    "# Resultados y Análisis de Resultados"
   ]
  },
  {
   "cell_type": "markdown",
   "metadata": {
    "collapsed": false,
    "pycharm": {
     "name": "#%% md\n"
    }
   },
   "source": [
    "## Conjunto de datos\n",
    "Descripción de las características del conjunto de datos\n",
    "\n",
    "El conjunto de datos para la elaboración de análisis de los tejidos funcionales de los órganos fue obtenido mediante la página de Kaggle de la competencia *Hacking the Human Body*. Los datos proporcionados constan de 351 observaciones (con sus respectivas imágenes para el análisis) y 10 variables, en las cuales se describe tanto información de las imágenes como el sexo y la edad del donador. Los organos provistos para el análisis son: riñón, pulmón, bazo, intestino grueso y próstata."
   ]
  },
  {
   "cell_type": "markdown",
   "metadata": {
    "collapsed": false,
    "pycharm": {
     "name": "#%% md\n"
    }
   },
   "source": [
    "## Preprocesamiento\n",
    "Descripción de las tareas de limpieza y preprocesamiento a las que tuvo que someter a los datos para lograr los resultados obtenidos"
   ]
  },
  {
   "cell_type": "markdown",
   "metadata": {},
   "source": [
    "Para el preprocesamiento se realizó un filtrado de Outliers, tomando como parámetro el rango intercuartil. Además, se realizó la normalización de todas las imágenes para que estén en un rango de 0 y 1. También, se pasaron todas las imágenes a una escala de grises. Y por último, se cambiaron el escalado de todas las imágenes a ______. \n",
    "\n",
    "Cabe mencionar que debido a la cantidad reducidas de imágenes que se poseen, se decidió a crear más imágenes, utilizando técnicas de rotación de imágenes, TODO, etc. "
   ]
  },
  {
   "cell_type": "markdown",
   "metadata": {
    "collapsed": false,
    "pycharm": {
     "name": "#%% md\n"
    }
   },
   "source": [
    "## Ajuste de algoritmos\n",
    "Explica el ajuste de los parámetros que hubo que hacerle a cada uno de los algoritmos para mejorar el rendimiento y la efectividad\n"
   ]
  },
  {
   "cell_type": "markdown",
   "metadata": {
    "collapsed": false,
    "pycharm": {
     "name": "#%% md\n"
    }
   },
   "source": [
    "## Comparación de algoritmos\n",
    "Comparación de los algoritmos de acuerdo con la efectividad, tiempos de procesamiento, errores, etc. Utiliza para esto, gráficos explicativos, estáticos con colores adecuados"
   ]
  },
  {
   "cell_type": "markdown",
   "metadata": {
    "collapsed": false,
    "pycharm": {
     "name": "#%% md\n"
    }
   },
   "source": [
    "## Descripción de la aplicación"
   ]
  },
  {
   "cell_type": "markdown",
   "metadata": {},
   "source": [
    "# Referencias\n",
    "\n",
    "- Bandyopadhyay. H, (10/2022). An Introduction to Image Segmentation: Deep Learning vs. Traditional [+Examples]. https://www.v7labs.com/blog/image-segmentation-guide \n",
    "- Datagen (sf). Image Segmentation: The Basics and 5 Key Techniques. https://datagen.tech/guides/image-annotation/image-segmentation/ \n",
    "- GeeksForGeeks (07/2021). Image Segmentation using K Means Clustering. https://www.geeksforgeeks.org/image-segmentation-using-k-means-clustering/ \n",
    "- Iglesias. D, (05/2021). Segmentación de Imágenes con Redes Convolucionales. https://www.iartificial.net/segmentacion-imagenes-redes-convolucionales/#La_segmentacion_el_machine_learning_y_la_importancia_de_las_redes_convolucionales \n",
    "- KeepCodig, (01/2022). ¿Qué son las Redes Neuronales Convolucionales? https://keepcoding.io/blog/redes-neuronales-convolucionales/#Que_son_las_Redes_Neuronales_Convolucionales \n",
    "- Murzova. A (08/2020). Otsu’s Thresholding with OpenCV. https://learnopencv.com/otsu-thresholding-with-opencv/ \n",
    "- Sahir. S (01/2019). Canny Edge Detection Step by Step in Python — Computer Vision. https://towardsdatascience.com/canny-edge-detection-step-by-step-in-python-computer-vision-b49c3a2d8123 \n",
    "- Shiledarbaxi, N (sf). Semantic vs Instance vs Panoptic: Which Image Segmentation Technique To Choose. https://analyticsindiamag.com/semantic-vs-instance-vs-panoptic-which-image-segmentation-technique-to-choose/ "
   ]
  }
 ],
 "metadata": {
  "kernelspec": {
   "display_name": "Python 3.10.6 64-bit",
   "language": "python",
   "name": "python3"
  },
  "language_info": {
   "codemirror_mode": {
    "name": "ipython",
    "version": 2
   },
   "file_extension": ".py",
   "mimetype": "text/x-python",
   "name": "python",
   "nbconvert_exporter": "python",
   "pygments_lexer": "ipython2",
   "version": "3.10.6"
  },
  "vscode": {
   "interpreter": {
    "hash": "85aba615decdb3a01ede5f950161a0711e40dfddec8a67547c00f5b8562848d2"
   }
  }
 },
 "nbformat": 4,
 "nbformat_minor": 0
}
