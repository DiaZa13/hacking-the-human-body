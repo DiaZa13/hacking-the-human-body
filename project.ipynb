{
 "cells": [
  {
   "cell_type": "markdown",
   "source": [
    " # Situación problemática\n",
    " Hagan una pequeña investigación del tema para tener una idea de qué buscar en un análisis exploratorio. En el caso de los problemas médicos, describan la enfermedad a detectar, los síntomas y como se diagnostica (especialmente diagnóstico basado en imágenes). Esto les va a servir para entender cual es el patrón que deben reconocer los algoritmos."
   ],
   "metadata": {
    "collapsed": false,
    "pycharm": {
     "name": "#%% md\n"
    }
   }
  },
  {
   "cell_type": "markdown",
   "source": [
    "# Problema científico\n",
    "Se enuncia el problema científico que se desprende de la situación planteada. Se comprende bien cuál es el problema."
   ],
   "metadata": {
    "collapsed": false,
    "pycharm": {
     "name": "#%% md\n"
    }
   }
  },
  {
   "cell_type": "markdown",
   "source": [
    "# Objetivos\n",
    " Se plantean los objetivos a cumplir para dar solución al problema\n",
    "planteado. Se enuncian, al menos, un objetivo general y 2 específicos. Los objetivos deben ser medibles y alcanzables durante la investigación"
   ],
   "metadata": {
    "collapsed": false,
    "pycharm": {
     "name": "#%% md\n"
    }
   }
  },
  {
   "cell_type": "markdown",
   "source": [
    "# Descripción de los datos\n",
    "Se describen los datos, tanto las variables y observaciones como las operaciones de limpieza que se realizaron si hubo necesidad de hacerlas."
   ],
   "metadata": {
    "collapsed": false,
    "pycharm": {
     "name": "#%% md\n"
    }
   }
  },
  {
   "cell_type": "markdown",
   "source": [
    "# Análisis exploratorio\n",
    "Descripción de cuántas variables y observaciones hay disponibles, así como el tipo de cada una de las variables"
   ],
   "metadata": {
    "collapsed": false,
    "pycharm": {
     "name": "#%% md\n"
    }
   }
  },
  {
   "cell_type": "markdown",
   "source": [
    "## Estudio de las variables cuantitativas\n",
    "Uso de estadística descriptiva, gráficos exploratorios como histogramas, diagramas de cajas y bigotes, gráficos de dispersión que ayudan a explicar los datos"
   ],
   "metadata": {
    "collapsed": false,
    "pycharm": {
     "name": "#%% md\n"
    }
   }
  },
  {
   "cell_type": "markdown",
   "source": [
    "## Estudio de variables categóricas\n",
    "Elaboración de gráficos de barra, tabla de frecuencias y proporciones."
   ],
   "metadata": {
    "collapsed": false,
    "pycharm": {
     "name": "#%% md\n"
    }
   }
  },
  {
   "cell_type": "markdown",
   "source": [
    "## Correlación entre variables\n",
    "Analizan las correlaciones entre las variables, tratan de explicar los datos atípicos (outliers) y toman decisiones acertadas ante la presencia de valores faltantes. Crucen las variables que consideren son las más importantes para hallar los elementos clave que puedan llevar a comprender lo que está causando el problema encontrado."
   ],
   "metadata": {
    "collapsed": false,
    "pycharm": {
     "name": "#%% md\n"
    }
   }
  },
  {
   "cell_type": "markdown",
   "source": [
    "# Hallazgos y conclusiones\n",
    "Conclusiones con los hallazgos encontrados durante el análisis exploratorio."
   ],
   "metadata": {
    "collapsed": false,
    "pycharm": {
     "name": "#%% md\n"
    }
   }
  }
 ],
 "metadata": {
  "kernelspec": {
   "display_name": "Python 3",
   "language": "python",
   "name": "python3"
  },
  "language_info": {
   "codemirror_mode": {
    "name": "ipython",
    "version": 2
   },
   "file_extension": ".py",
   "mimetype": "text/x-python",
   "name": "python",
   "nbconvert_exporter": "python",
   "pygments_lexer": "ipython2",
   "version": "2.7.6"
  }
 },
 "nbformat": 4,
 "nbformat_minor": 0
}